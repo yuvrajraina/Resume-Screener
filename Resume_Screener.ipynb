{
  "nbformat": 4,
  "nbformat_minor": 0,
  "metadata": {
    "colab": {
      "name": "Resume Screener.ipynb",
      "provenance": [],
      "collapsed_sections": []
    },
    "kernelspec": {
      "name": "python3",
      "display_name": "Python 3"
    },
    "language_info": {
      "name": "python"
    }
  },
  "cells": [
    {
      "cell_type": "code",
      "execution_count": 46,
      "metadata": {
        "colab": {
          "base_uri": "https://localhost:8080/"
        },
        "id": "aW9NXHnkdFnd",
        "outputId": "beffd7c3-f1d4-4789-cb84-f1ccfaaf08de"
      },
      "outputs": [
        {
          "output_type": "stream",
          "name": "stdout",
          "text": [
            "Looking in indexes: https://pypi.org/simple, https://us-python.pkg.dev/colab-wheels/public/simple/\n",
            "Requirement already satisfied: tika in /usr/local/lib/python3.7/dist-packages (1.24)\n",
            "Requirement already satisfied: setuptools in /usr/local/lib/python3.7/dist-packages (from tika) (57.4.0)\n",
            "Requirement already satisfied: requests in /usr/local/lib/python3.7/dist-packages (from tika) (2.23.0)\n",
            "Requirement already satisfied: urllib3!=1.25.0,!=1.25.1,<1.26,>=1.21.1 in /usr/local/lib/python3.7/dist-packages (from requests->tika) (1.24.3)\n",
            "Requirement already satisfied: certifi>=2017.4.17 in /usr/local/lib/python3.7/dist-packages (from requests->tika) (2022.5.18.1)\n",
            "Requirement already satisfied: idna<3,>=2.5 in /usr/local/lib/python3.7/dist-packages (from requests->tika) (2.10)\n",
            "Requirement already satisfied: chardet<4,>=3.0.2 in /usr/local/lib/python3.7/dist-packages (from requests->tika) (3.0.4)\n"
          ]
        }
      ],
      "source": [
        "!pip install tika\n",
        "from tika import parser\n",
        "import re\n",
        "import string\n",
        "import pandas as pd\n",
        "import matplotlib.pyplot as plt\n",
        "%matplotlib inline"
      ]
    },
    {
      "cell_type": "code",
      "source": [
        "raw = parser.from_file('resumejob1(1).pdf')\n",
        "text= raw['content']\n",
        "print(raw['content'])"
      ],
      "metadata": {
        "colab": {
          "base_uri": "https://localhost:8080/"
        },
        "id": "LB-ntCHrl7py",
        "outputId": "fa35fd73-8a28-4284-d55e-efeb03f20363"
      },
      "execution_count": 62,
      "outputs": [
        {
          "output_type": "stream",
          "name": "stdout",
          "text": [
            "\n",
            "\n",
            "\n",
            "\n",
            "\n",
            "\n",
            "\n",
            "\n",
            "\n",
            "\n",
            "\n",
            "\n",
            "\n",
            "\n",
            "\n",
            "\n",
            "\n",
            "\n",
            "\n",
            "\n",
            "\n",
            "\n",
            "\n",
            "\n",
            "\n",
            "\n",
            "\n",
            "\n",
            "\n",
            "\n",
            "\n",
            "\n",
            "\n",
            "\n",
            "\n",
            "\n",
            "\n",
            "\n",
            "\n",
            "\n",
            "\n",
            "\n",
            "\n",
            "\n",
            "\n",
            "\n",
            "\n",
            "\n",
            "\n",
            "\n",
            "\n",
            "\n",
            "\n",
            "\n",
            "\n",
            "\n",
            "\n",
            "\n",
            "\n",
            "\n",
            "\n",
            "\n",
            "Yuvraj Raina\n",
            "(347) 242-9951 | Brooklyn, NY | yr2145@nyu.edu| www.linkedin.com/in/yuvraj-raina |https://github.com/yuvrajraina\n",
            "\n",
            "PROFESSIONAL SUMMARY\n",
            "Extremely Competitive professional with experience in the field of Big-Data and Cloud with implementation of technology driven business improvement\n",
            "solutions, programming and exploits also made into field of Machine Learning and Artificial Intelligence to support the futuristic big data solutions.\n",
            "EDUCATION\n",
            "New York University, New York, NY Sep ‘21 – Present\n",
            "\n",
            "o Masters in ComputerScience(GPA: 3.4 expected)\n",
            "o RelevantCourses:BigData,Cloud,Artificial Intelligence,MachineLearning,ArtificialIntelligencefor games,HumanComputer Interaction\n",
            "\n",
            "SRMIST NCR Campus, New Delhi Jul‘17 - Jul ‘21\n",
            "o Bachelor of Technology Computer Science And Engineering (GPA: 3.5)\n",
            "o Relevant Courses: Artificial Intelligence, Big Data, Cloud Computing, Computer Networks, Machine Learning\n",
            "\n",
            "SKILLS\n",
            "o Programming: Python (Pandas, NumPy,open-CV,TensorFlow,SpeechRecognition, pygame), Hacker Rank Gold Coder, R (dplyr, ggplot2),\n",
            "\n",
            "My-SQL, My-SQLite, Hadoop, Apache Spark(pyspark, pyspark.sql), Hive, Competitive Programming\n",
            "o Tools: Excel (VBA/Macros, Pivot Tables), Word, PowerPoint, Google Suite, Tableau, Microsoft Power Suite (Power BI, Power Automate, Power\n",
            "\n",
            "Apps),LaTeX,Spyder,JupyterNotebook,Ubuntu,Kali.\n",
            "PROFESSIONAL EXPERIENCE\n",
            "Big Data Intern (Internship) Jun ‘19 – Jul‘19\n",
            "Huawei Telecommunications Pvt. Ltd. Gurugram, India\n",
            "\n",
            "o Developed pyspark programs for field operations and worked on Analytic of Hybrid Cloud usage.\n",
            "o Contributed towards Server side maintenance operations and client side operations.\n",
            "o Earned a LOR from the CTO of the company for exemplary work.\n",
            "\n",
            "Machine Learning Intern (Part Time) Jan‘21 – May ‘21\n",
            "Defense Research and Development Organization Gurugram, India\n",
            "\n",
            "o Worked on Machine Learning Models for military purposes.\n",
            "o Contributed to the foundation of the Armor Penetration Maximizing System which is currently in testing phases.\n",
            "o Project Armor Penetration Maximizing System is to be converted into research paper under Lt. Col. Rajeev Raina,\n",
            "\n",
            "Yuvraj Raina andRittvik Vashistha\n",
            "PROJECTS\n",
            "Credit Card Fraud Detection(R, spark)\n",
            "\n",
            "o Credit card fraud detection using different ML algrithms, 98% accuracy attained using KNN\n",
            "o Analysis of best indicators of fraud detection.\n",
            "o https://github.com/yuvrajraina/Credit-Card-Fraud\n",
            "\n",
            "Voice Print for password protection(python , keras, pandas, numpy)\n",
            "o Voice print using keras deep learning, 155 users, 15 second train time.\n",
            "o .https://github.com/yuvrajraina/VoicePrint\n",
            "\n",
            "Weather Monitoring and Forecast System using IOT driven Instagram feed control (Pyspark, JavaScript, TensorFlow)\n",
            "o Project made to link the Instagram stories to TensorFlow models to predict weather in real time\n",
            "o Project achieved a maximum of 91% accuracy with average of 83% accuracy on 10 different test subjects\n",
            "\n",
            "Intelligent Armor Penetration System for Armored Vehicles (Python)\n",
            "o Military Project for increasing penetration using Computer Vision\n",
            "o Using TensorFlow based COCO models to increase accuracy of aiming mechanism for military grade missiles\n",
            "o Accuracy Improvement increased 230% when using testing on gaming platform and penetration chance almost quadrupled\n",
            "\n",
            "Hadoop Reservoir Sampling (Python, hadoop)\n",
            "o Reservoir sampling to estimate hard drive failures in disk using hadoop map reduce for a humongous dataset\n",
            "o Estimated Failure chance of 56 different hard drives for reservoir of 1 million, 10 million and 50 million set\n",
            "\n",
            "Anomaly Detection using pyspark(Python, pyspark)\n",
            "o Detected anomalies in car crash incidents for insurance fraud purposes\n",
            "o Successfully detected anomalies and made model to predict the anomalous behavior of fraudsters\n",
            "\n",
            "AI driven Sokoban Solver(pygame)\n",
            "o Created game Sokoban along with methods for AI core solutions to build upon\n",
            "o Succesfully ran Sokoban with BFS, DFS, A*, Hill Climber, Genetic Agent and MCTS agents\n",
            "o Comparison made among the utilities of the agents\n",
            "\n",
            "OTHERS\n",
            "Languages Spoken\n",
            "\n",
            "o English(Native), Hindi(Native), Japanese(Semi Professional, JLPT N4), German(Elementary Proficiency), Russian(Beginner)\n",
            "Co-Curricular Activities\n",
            "\n",
            "o Varsity Soccer in Undergrad, coding competitions, hackathons, MUN organizer team member.\n",
            "o Member of Disciplinary Comity in SRMIST (2017 - 2021)\n",
            "\n",
            "mailto:yr2145@nyu.edu\n",
            "http://www.linkedin.com/in/yuvraj-raina\n",
            "\n",
            "\tPROFESSIONAL SUMMARY\n",
            "\tEDUCATION\n",
            "\t PROFESSIONAL EXPERIENCE\n",
            "\tHuawei Telecommunications Pvt. Ltd.Gurugram, Indi\n",
            "\tDefense Research and Development OrganizationGuru\n",
            "\n",
            "\tPROJECTS\n",
            "\tCredit Card Fraud Detection(R, spark)\n",
            "\tVoice Print for password protection(python , keras\n",
            "\tIntelligent Armor Penetration System for Armored V\n",
            "\n",
            "\tOTHERS\n",
            "\tLanguages Spoken\n",
            "\tCo-Curricular Activities\n",
            "\n",
            "\n",
            "\n"
          ]
        }
      ]
    },
    {
      "cell_type": "code",
      "source": [
        "text = text.lower()\n",
        "text = re.sub(r'\\d+','',text)\n",
        "text = text.translate(str.maketrans('','',string.punctuation))\n"
      ],
      "metadata": {
        "id": "UhBgYwtGnsMq"
      },
      "execution_count": 53,
      "outputs": []
    },
    {
      "cell_type": "code",
      "source": [
        "text"
      ],
      "metadata": {
        "colab": {
          "base_uri": "https://localhost:8080/",
          "height": 140
        },
        "id": "Aowtwfman0Bu",
        "outputId": "15bc10e6-cfba-4499-b8aa-eea146974561"
      },
      "execution_count": 54,
      "outputs": [
        {
          "output_type": "execute_result",
          "data": {
            "text/plain": [
              "'\\n\\n\\n\\n\\n\\n\\n\\n\\n\\n\\n\\n\\n\\n\\n\\n\\n\\n\\n\\n\\n\\n\\n\\n\\n\\n\\n\\n\\n\\n\\n\\n\\n\\n\\n\\n\\n\\n\\n\\n\\n\\n\\n\\n\\n\\n\\n\\n\\n\\n\\n\\n\\n\\n\\n\\n\\n\\n\\n\\n\\n\\nyuvraj raina\\n   brooklyn ny  yrnyuedu wwwlinkedincominyuvrajraina httpsgithubcomyuvrajraina\\n\\nprofessional summary\\nextremely competitive professional with experience in the field of bigdata and cloud with implementation of technology driven business improvement\\nsolutions programming and exploits also made into field of machine learning and artificial intelligence to support the futuristic big data solutions\\neducation\\nnew york university new york ny sep ‘ – present\\n\\no masters in computersciencegpa  expected\\no relevantcoursesbigdatacloudartificial intelligencemachinelearningartificialintelligencefor gameshumancomputer interaction\\n\\nsrmist ncr campus new delhi jul‘  jul ‘\\no bachelor of technology computer science and engineering gpa \\no relevant courses artificial intelligence big data cloud computing computer networks machine learning\\n\\nskills\\no programming python pandas numpyopencvtensorflowspeechrecognition pygame hacker rank gold coder r dplyr ggplot\\n\\nmysql mysqlite hadoop apache sparkpyspark pysparksql hive competitive programming\\no tools excel vbamacros pivot tables word powerpoint google suite tableau microsoft power suite power bi power automate power\\n\\nappslatexspyderjupyternotebookubuntukali\\nprofessional experience\\nbig data intern internship jun ‘ – jul‘\\nhuawei telecommunications pvt ltd gurugram india\\n\\no developed pyspark programs for field operations and worked on analytic of hybrid cloud usage\\no contributed towards server side maintenance operations and client side operations\\no earned a lor from the cto of the company for exemplary work\\n\\nmachine learning intern part time jan‘ – may ‘\\ndefense research and development organization gurugram india\\n\\no worked on machine learning models for military purposes\\no contributed to the foundation of the armor penetration maximizing system which is currently in testing phases\\no project armor penetration maximizing system is to be converted into research paper under lt col rajeev raina\\n\\nyuvraj raina andrittvik vashistha\\nprojects\\ncredit card fraud detectionr spark\\n\\no credit card fraud detection using different ml algrithms  accuracy attained using knn\\no analysis of best indicators of fraud detection\\no httpsgithubcomyuvrajrainacreditcardfraud\\n\\nvoice print for password protectionpython  keras pandas numpy\\no voice print using keras deep learning  users  second train time\\no httpsgithubcomyuvrajrainavoiceprint\\n\\nweather monitoring and forecast system using iot driven instagram feed control pyspark javascript tensorflow\\no project made to link the instagram stories to tensorflow models to predict weather in real time\\no project achieved a maximum of  accuracy with average of  accuracy on  different test subjects\\n\\nintelligent armor penetration system for armored vehicles python\\no military project for increasing penetration using computer vision\\no using tensorflow based coco models to increase accuracy of aiming mechanism for military grade missiles\\no accuracy improvement increased  when using testing on gaming platform and penetration chance almost quadrupled\\n\\nhadoop reservoir sampling python hadoop\\no reservoir sampling to estimate hard drive failures in disk using hadoop map reduce for a humongous dataset\\no estimated failure chance of  different hard drives for reservoir of  million  million and  million set\\n\\nanomaly detection using pysparkpython pyspark\\no detected anomalies in car crash incidents for insurance fraud purposes\\no successfully detected anomalies and made model to predict the anomalous behavior of fraudsters\\n\\nai driven sokoban solverpygame\\no created game sokoban along with methods for ai core solutions to build upon\\no succesfully ran sokoban with bfs dfs a hill climber genetic agent and mcts agents\\no comparison made among the utilities of the agents\\n\\nothers\\nlanguages spoken\\n\\no englishnative hindinative japanesesemi professional jlpt n germanelementary proficiency russianbeginner\\ncocurricular activities\\n\\no varsity soccer in undergrad coding competitions hackathons mun organizer team member\\no member of disciplinary comity in srmist   \\n\\nmailtoyrnyuedu\\nhttpwwwlinkedincominyuvrajraina\\n\\n\\tprofessional summary\\n\\teducation\\n\\t professional experience\\n\\thuawei telecommunications pvt ltdgurugram indi\\n\\tdefense research and development organizationguru\\n\\n\\tprojects\\n\\tcredit card fraud detectionr spark\\n\\tvoice print for password protectionpython  keras\\n\\tintelligent armor penetration system for armored v\\n\\n\\tothers\\n\\tlanguages spoken\\n\\tcocurricular activities\\n\\n\\n'"
            ],
            "application/vnd.google.colaboratory.intrinsic+json": {
              "type": "string"
            }
          },
          "metadata": {},
          "execution_count": 54
        }
      ]
    },
    {
      "cell_type": "code",
      "source": [
        "terms = {'Quality/Six Sigma':['black belt','capability analysis','control charts','doe','dmaic','fishbone',\n",
        "                              'gage r&r', 'green belt','ishikawa','iso','kaizen','kpi','lean','metrics',\n",
        "                              'pdsa','performance improvement','process improvement','quality',\n",
        "                              'quality circles','quality tools','root cause','six sigma',\n",
        "                              'stability analysis','statistical analysis','tqm'],      \n",
        "        'Operations management':['automation','bottleneck','constraints','cycle time','efficiency','fmea',\n",
        "                                 'machinery','maintenance','manufacture','line balancing','oee','operations',\n",
        "                                 'operations research','optimization','overall equipment effectiveness',\n",
        "                                 'pfmea','process','process mapping','production','resources','safety',\n",
        "                                 'stoppage','value stream mapping','utilization'],\n",
        "        'Supply chain':['abc analysis','apics','customer','customs','delivery','distribution','eoq','epq',\n",
        "                        'fleet','forecast','inventory','logistic','materials','outsourcing','procurement',\n",
        "                        'reorder point','rout','safety stock','scheduling','shipping','stock','suppliers',\n",
        "                        'third party logistics','transport','transportation','traffic','supply chain',\n",
        "                        'vendor','warehouse','wip','work in progress'],\n",
        "        'Project management':['administration','agile','budget','cost','direction','feasibility analysis',\n",
        "                              'finance','kanban','leader','leadership','management','milestones','planning',\n",
        "                              'pmi','pmp','problem','project','risk','schedule','scrum','stakeholders'],\n",
        "        'Data analytics':['analytics','api','aws','big data','busines intelligence','clustering','code',\n",
        "                          'coding','data','database','data mining','data science','deep learning','hadoop',\n",
        "                          'hypothesis test','iot','internet','machine learning','modeling','nosql','nlp',\n",
        "                          'predictive','programming','python','r','sql','tableau','text mining',\n",
        "                          'visualuzation'],\n",
        "        'Healthcare':['adverse events','care','clinic','cphq','ergonomics','healthcare',\n",
        "                      'health care','health','hospital','human factors','medical','near misses',\n",
        "                      'patient','reporting system']}"
      ],
      "metadata": {
        "id": "W8BJlz_JolcT"
      },
      "execution_count": 55,
      "outputs": []
    },
    {
      "cell_type": "code",
      "source": [
        "quality = 0\n",
        "operations = 0\n",
        "supplychain = 0\n",
        "project = 0\n",
        "data = 0\n",
        "healthcare = 0"
      ],
      "metadata": {
        "id": "i7uI6AfZot9I"
      },
      "execution_count": 56,
      "outputs": []
    },
    {
      "cell_type": "code",
      "source": [
        "scores = []"
      ],
      "metadata": {
        "id": "_YzNBinZo3Vm"
      },
      "execution_count": 57,
      "outputs": []
    },
    {
      "cell_type": "code",
      "source": [
        "for area in terms.keys():\n",
        "  if area == 'Quality/Six Sigma':\n",
        "    for word in terms[area]:\n",
        "      if word in text:\n",
        "        quality+=1\n",
        "    scores.append(quality)\n",
        "\n",
        "  elif area == 'Operations Management':\n",
        "    for word in terms[area]:\n",
        "      if word in text:\n",
        "        operations+=1\n",
        "    scores.append(operations)\n",
        "\n",
        "  elif area == 'Supply chain':\n",
        "      for word in terms[area]:\n",
        "          if word in text:\n",
        "              supplychain +=1\n",
        "      scores.append(supplychain)\n",
        "        \n",
        "  elif area == 'Project management':\n",
        "      for word in terms[area]:\n",
        "          if word in text:\n",
        "              project +=1\n",
        "      scores.append(project)\n",
        "        \n",
        "  elif area == 'Data analytics':\n",
        "      for word in terms[area]:\n",
        "          if word in text:\n",
        "              data +=1\n",
        "      scores.append(data)\n",
        "        \n",
        "  else:\n",
        "      for word in terms[area]:\n",
        "          if word in text:\n",
        "              healthcare +=1\n",
        "      scores.append(healthcare)"
      ],
      "metadata": {
        "id": "YeyQxCino4z6"
      },
      "execution_count": 58,
      "outputs": []
    },
    {
      "cell_type": "code",
      "source": [
        "output = pd.DataFrame(scores, index = terms.keys(), columns = ['score']).sort_values(by = 'score', ascending = False)"
      ],
      "metadata": {
        "id": "fDi60daqppCe"
      },
      "execution_count": 60,
      "outputs": []
    },
    {
      "cell_type": "code",
      "source": [
        "output"
      ],
      "metadata": {
        "colab": {
          "base_uri": "https://localhost:8080/",
          "height": 237
        },
        "id": "_AD1ePTvp9r3",
        "outputId": "18ff8bb8-c050-43c4-dc0f-e57cf11b62f1"
      },
      "execution_count": 61,
      "outputs": [
        {
          "output_type": "execute_result",
          "data": {
            "text/plain": [
              "                       score\n",
              "Data analytics            13\n",
              "Operations management      2\n",
              "Healthcare                 2\n",
              "Quality/Six Sigma          1\n",
              "Supply chain               1\n",
              "Project management         1"
            ],
            "text/html": [
              "\n",
              "  <div id=\"df-2c17b505-055b-4288-b2bc-53f2720ec0c9\">\n",
              "    <div class=\"colab-df-container\">\n",
              "      <div>\n",
              "<style scoped>\n",
              "    .dataframe tbody tr th:only-of-type {\n",
              "        vertical-align: middle;\n",
              "    }\n",
              "\n",
              "    .dataframe tbody tr th {\n",
              "        vertical-align: top;\n",
              "    }\n",
              "\n",
              "    .dataframe thead th {\n",
              "        text-align: right;\n",
              "    }\n",
              "</style>\n",
              "<table border=\"1\" class=\"dataframe\">\n",
              "  <thead>\n",
              "    <tr style=\"text-align: right;\">\n",
              "      <th></th>\n",
              "      <th>score</th>\n",
              "    </tr>\n",
              "  </thead>\n",
              "  <tbody>\n",
              "    <tr>\n",
              "      <th>Data analytics</th>\n",
              "      <td>13</td>\n",
              "    </tr>\n",
              "    <tr>\n",
              "      <th>Operations management</th>\n",
              "      <td>2</td>\n",
              "    </tr>\n",
              "    <tr>\n",
              "      <th>Healthcare</th>\n",
              "      <td>2</td>\n",
              "    </tr>\n",
              "    <tr>\n",
              "      <th>Quality/Six Sigma</th>\n",
              "      <td>1</td>\n",
              "    </tr>\n",
              "    <tr>\n",
              "      <th>Supply chain</th>\n",
              "      <td>1</td>\n",
              "    </tr>\n",
              "    <tr>\n",
              "      <th>Project management</th>\n",
              "      <td>1</td>\n",
              "    </tr>\n",
              "  </tbody>\n",
              "</table>\n",
              "</div>\n",
              "      <button class=\"colab-df-convert\" onclick=\"convertToInteractive('df-2c17b505-055b-4288-b2bc-53f2720ec0c9')\"\n",
              "              title=\"Convert this dataframe to an interactive table.\"\n",
              "              style=\"display:none;\">\n",
              "        \n",
              "  <svg xmlns=\"http://www.w3.org/2000/svg\" height=\"24px\"viewBox=\"0 0 24 24\"\n",
              "       width=\"24px\">\n",
              "    <path d=\"M0 0h24v24H0V0z\" fill=\"none\"/>\n",
              "    <path d=\"M18.56 5.44l.94 2.06.94-2.06 2.06-.94-2.06-.94-.94-2.06-.94 2.06-2.06.94zm-11 1L8.5 8.5l.94-2.06 2.06-.94-2.06-.94L8.5 2.5l-.94 2.06-2.06.94zm10 10l.94 2.06.94-2.06 2.06-.94-2.06-.94-.94-2.06-.94 2.06-2.06.94z\"/><path d=\"M17.41 7.96l-1.37-1.37c-.4-.4-.92-.59-1.43-.59-.52 0-1.04.2-1.43.59L10.3 9.45l-7.72 7.72c-.78.78-.78 2.05 0 2.83L4 21.41c.39.39.9.59 1.41.59.51 0 1.02-.2 1.41-.59l7.78-7.78 2.81-2.81c.8-.78.8-2.07 0-2.86zM5.41 20L4 18.59l7.72-7.72 1.47 1.35L5.41 20z\"/>\n",
              "  </svg>\n",
              "      </button>\n",
              "      \n",
              "  <style>\n",
              "    .colab-df-container {\n",
              "      display:flex;\n",
              "      flex-wrap:wrap;\n",
              "      gap: 12px;\n",
              "    }\n",
              "\n",
              "    .colab-df-convert {\n",
              "      background-color: #E8F0FE;\n",
              "      border: none;\n",
              "      border-radius: 50%;\n",
              "      cursor: pointer;\n",
              "      display: none;\n",
              "      fill: #1967D2;\n",
              "      height: 32px;\n",
              "      padding: 0 0 0 0;\n",
              "      width: 32px;\n",
              "    }\n",
              "\n",
              "    .colab-df-convert:hover {\n",
              "      background-color: #E2EBFA;\n",
              "      box-shadow: 0px 1px 2px rgba(60, 64, 67, 0.3), 0px 1px 3px 1px rgba(60, 64, 67, 0.15);\n",
              "      fill: #174EA6;\n",
              "    }\n",
              "\n",
              "    [theme=dark] .colab-df-convert {\n",
              "      background-color: #3B4455;\n",
              "      fill: #D2E3FC;\n",
              "    }\n",
              "\n",
              "    [theme=dark] .colab-df-convert:hover {\n",
              "      background-color: #434B5C;\n",
              "      box-shadow: 0px 1px 3px 1px rgba(0, 0, 0, 0.15);\n",
              "      filter: drop-shadow(0px 1px 2px rgba(0, 0, 0, 0.3));\n",
              "      fill: #FFFFFF;\n",
              "    }\n",
              "  </style>\n",
              "\n",
              "      <script>\n",
              "        const buttonEl =\n",
              "          document.querySelector('#df-2c17b505-055b-4288-b2bc-53f2720ec0c9 button.colab-df-convert');\n",
              "        buttonEl.style.display =\n",
              "          google.colab.kernel.accessAllowed ? 'block' : 'none';\n",
              "\n",
              "        async function convertToInteractive(key) {\n",
              "          const element = document.querySelector('#df-2c17b505-055b-4288-b2bc-53f2720ec0c9');\n",
              "          const dataTable =\n",
              "            await google.colab.kernel.invokeFunction('convertToInteractive',\n",
              "                                                     [key], {});\n",
              "          if (!dataTable) return;\n",
              "\n",
              "          const docLinkHtml = 'Like what you see? Visit the ' +\n",
              "            '<a target=\"_blank\" href=https://colab.research.google.com/notebooks/data_table.ipynb>data table notebook</a>'\n",
              "            + ' to learn more about interactive tables.';\n",
              "          element.innerHTML = '';\n",
              "          dataTable['output_type'] = 'display_data';\n",
              "          await google.colab.output.renderOutput(dataTable, element);\n",
              "          const docLink = document.createElement('div');\n",
              "          docLink.innerHTML = docLinkHtml;\n",
              "          element.appendChild(docLink);\n",
              "        }\n",
              "      </script>\n",
              "    </div>\n",
              "  </div>\n",
              "  "
            ]
          },
          "metadata": {},
          "execution_count": 61
        }
      ]
    },
    {
      "cell_type": "code",
      "source": [
        ""
      ],
      "metadata": {
        "id": "aOMUgJ3rqBS7"
      },
      "execution_count": null,
      "outputs": []
    }
  ]
}